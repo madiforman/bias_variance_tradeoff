{
 "cells": [
  {
   "cell_type": "markdown",
   "metadata": {},
   "source": [
    "## $\\text{Homework II}$\n",
    "#### $\\text{Madison Sanchez-Forman}$\n",
    "#### $\\text{Problem 1}$\n",
    "$\\text{1a) Minimizing least squares is the procedure that allows us to find estimates of the coefficients in linear regression such that our predictions}$\n",
    "$\\text{are as close to the actual data points as possible. This creates the line of best fit.}$\n",
    "$\\text{To find these coefficients, we want to minimize the distance between our predicted } \\hat{Y} \\text{ given an observation X, and the actual (X,Y) from the training set.}$\n",
    "\n",
    "$\\text{Here, this is done by minimizing the residuals from our model, or the difference between}$\n",
    "$\\text{our models prediction, }\\hat{Y} \\text{, and the actual Y of the training response variable.}$\n",
    "\n",
    "$\\text{Let }Y=\\beta_0 + \\beta_1 X_1 + \\epsilon_{1} \\text{ and } Y=\\beta_0 + \\beta_1 X_1 + \\beta_2 X_2 + \\epsilon_{2}$\n",
    "\n",
    "$\\text{Then, }$\n",
    "\n",
    "$RSS_1=\\sum_{i=1}^{n}e_1 ^2 =(y_i - \\hat{\\beta_0} - \\hat{\\beta_1}x_1)^2$\n",
    "\n",
    "$RSS_{12} =\\sum_{i=1}^{n}e_{1i}^2=\\sum_{i=1}^{n}(y_i - \\hat{\\beta_0} - \\hat{\\beta_1}x_1 - \\hat{\\beta_2}x_2)^2$\n",
    "\n",
    "$\\text{We can see that the first model is a more restrictive version of the second. In the second model, if }\\beta_2=0\\text{ minimizes }RSS_{12}$ $\\text{then model 2 will find that. In contrast, model 1 can be thought of as ignoring the second feature } X_2 \\text{ no matter what, leaving the possibility that}$\n",
    "$\\text{there exists a different } \\beta_2 \\text{that would allow for the RSS to be even smaller. Similarly, we know that the RSS of the more flexible model will be}$\n",
    "$\\text{at least as small as the less flexible model because of this additional parameter.}$\n",
    "\n",
    "$\\therefore RSS_{12} \\leq RSS_1$\n",
    "\n",
    "<!-- $\\text{Therefore, we can intuit that model 2 will have more flexibility than model 1, because model 2 allows } \\beta_2 \\text{ to be an additional parameter.}$ -->"
   ]
  },
  {
   "cell_type": "markdown",
   "metadata": {},
   "source": []
  },
  {
   "cell_type": "markdown",
   "metadata": {},
   "source": []
  }
 ],
 "metadata": {
  "kernelspec": {
   "display_name": "datavis",
   "language": "python",
   "name": "python3"
  },
  "language_info": {
   "name": "python",
   "version": "3.13.0"
  }
 },
 "nbformat": 4,
 "nbformat_minor": 2
}
