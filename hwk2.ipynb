{
 "cells": [
  {
   "cell_type": "markdown",
   "metadata": {},
   "source": [
    "#### $\\text{BioStat 558: Homework I}$\n",
    "#### $\\text{Madison Sanchez-Forman}$"
   ]
  },
  {
   "cell_type": "markdown",
   "metadata": {},
   "source": [
    "#### $\\text{Problem 1}$\n",
    "<!-- 1 a -->\n",
    "$\\text{a) Minimizing least squares is the procedure that allows us to find estimates of the coefficients in linear regression such that our predictions}$\n",
    "$\\text{are as close to the actual data points as possible. This creates the line of best fit. To find these coefficients, we want to minimize the distance between our predicted}$\n",
    "$\\hat{Y}\\text{ given an observation X, and the actual (X,Y) from the training set.}$\n",
    "$\\text{This is often done by minimizing the residuals from our model, or the difference between}$\n",
    "$\\text{our models prediction, }\\hat{Y} \\text{, and the actual Y of the training response variable.}$\n",
    "\n",
    "$\\text{Let }Y=\\beta_0 + \\beta_1 X_1 + \\epsilon_{1} \\text{ and } Y=\\beta_0 + \\beta_1 X_1 + \\beta_2 X_2 + \\epsilon_{2}$\n",
    "\n",
    "$\\text{Then, }$\n",
    "\n",
    "$RSS_1=\\sum_{i=1}^{n}e_1 ^2 =(y_i - \\hat{\\beta_0} - \\hat{\\beta_1}x_1)^2$\n",
    "\n",
    "$RSS_{12} =\\sum_{i=1}^{n}e_{1i}^2=\\sum_{i=1}^{n}(y_i - \\hat{\\beta_0} - \\hat{\\beta_1}x_1 - \\hat{\\beta_2}x_2)^2$\n",
    "\n",
    "$\\text{We can see that the first model is a more restrictive version of the second. In the second model, if }\\beta_2=0\\text{ minimizes }RSS_{12}$ $\\text{then model 2 will find that. In contrast, model 1 can be thought of as ignoring the second feature } X_2 \\text{ no matter what, leaving the possibility that}$\n",
    "$\\text{there exists a different } \\beta_2 \\text{that would allow for the RSS to be even smaller. Similarly, we know that the RSS of the more flexible model will be}$\n",
    "$\\text{at least as small as the less flexible model because of this additional parameter.}$\n",
    "\n",
    "$\\therefore RSS_{12} \\leq RSS_1$\n",
    "\n",
    "\n",
    "<!-- 1 b -->\n",
    "$\\text{b) } R^2 \\text{ represents the proportion of variance explained by the fitted model. Values close to 0 indicate that the regression is not explaining the variance}$\n",
    "$\\text{in the response variable, and values close to 1 indicate the opposite.}$\n",
    "\n",
    "$R^2 := 1 - \\frac{\\sum_{i=1}^{n}(y_i-\\hat{f}({x_i}))}{\\sum_{i=1}^{n}(y_i - \\bar{y})^2} = 1 -\\frac{RSS}{TSS}$\n",
    "\n",
    "$\\text{RSS we saw in the previous problem, and represents the amount of variability left } \\underline{unexplained} \\text{ after pefroming regression}$\n",
    "$\\text{In contrast, TSS represents the } \\underline{inherent} \\text{ variability in the response Y. This means that TSS will be the same for both models. }$\n",
    "$\\text{Earlier we proved that the model with two features, } X_1 \\text{ and } X_2 \\text{will have at least the same amount or less variability explained}$\n",
    "$\\text{as a model with only } X_1 \\text{ when trained on the same data. Therefore, we know that for the model with the additional feature, } R^2$ \n",
    "$\\text{will be greater than or equal to the }R^2 \\text{of the model with a single feature. In other words, adding more features will never reduce the amount}$\n",
    "$\\text{of variability explained by a model with a single feature, it will only increase it}$\n",
    "\n",
    "<!-- 1 c --> \n",
    "$\\text{c) Adding features does not inherently increase } R^2 \\text{. It is only substantially increased if the additional feature includes information that signifigantly reduces RSS.}$\n",
    "$\\text{Otherwise, the additional features can lead the model to overfitting by reducing bias and increasing variance. Where the model performs extremely}$\n",
    "$\\text{well on the training data, but fails to adapt to the testing data.}$"
   ]
  },
  {
   "cell_type": "markdown",
   "metadata": {},
   "source": []
  },
  {
   "cell_type": "markdown",
   "metadata": {},
   "source": []
  },
  {
   "cell_type": "markdown",
   "metadata": {},
   "source": []
  },
  {
   "cell_type": "markdown",
   "metadata": {},
   "source": []
  },
  {
   "cell_type": "markdown",
   "metadata": {},
   "source": []
  },
  {
   "cell_type": "markdown",
   "metadata": {},
   "source": []
  },
  {
   "cell_type": "markdown",
   "metadata": {},
   "source": []
  }
 ],
 "metadata": {
  "kernelspec": {
   "display_name": "datavis",
   "language": "python",
   "name": "python3"
  },
  "language_info": {
   "codemirror_mode": {
    "name": "ipython",
    "version": 3
   },
   "file_extension": ".py",
   "mimetype": "text/x-python",
   "name": "python",
   "nbconvert_exporter": "python",
   "pygments_lexer": "ipython3",
   "version": "3.13.0"
  }
 },
 "nbformat": 4,
 "nbformat_minor": 2
}
